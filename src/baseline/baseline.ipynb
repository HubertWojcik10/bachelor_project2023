{
 "cells": [
  {
   "cell_type": "code",
   "execution_count": 1,
   "metadata": {},
   "outputs": [
    {
     "name": "stderr",
     "output_type": "stream",
     "text": [
      "C:\\Users\\germa\\AppData\\Local\\Temp\\ipykernel_748\\4200710593.py:1: DeprecationWarning: \n",
      "Pyarrow will become a required dependency of pandas in the next major release of pandas (pandas 3.0),\n",
      "(to allow more performant data types, such as the Arrow string type, and better interoperability with other libraries)\n",
      "but was not found to be installed on your system.\n",
      "If this would cause problems for you,\n",
      "please provide us feedback at https://github.com/pandas-dev/pandas/issues/54466\n",
      "        \n",
      "  import pandas as pd\n",
      "c:\\Users\\germa\\anaconda3\\envs\\project\\Lib\\site-packages\\tqdm\\auto.py:21: TqdmWarning: IProgress not found. Please update jupyter and ipywidgets. See https://ipywidgets.readthedocs.io/en/stable/user_install.html\n",
      "  from .autonotebook import tqdm as notebook_tqdm\n"
     ]
    }
   ],
   "source": [
    "import pandas as pd\n",
    "from transformers import XLMRobertaModel, XLMRobertaTokenizer\n",
    "import torch\n",
    "\n",
    "tokenizer = XLMRobertaTokenizer.from_pretrained(\"xlm-roberta-base\")\n",
    "model = XLMRobertaModel.from_pretrained(\"xlm-roberta-base\")"
   ]
  },
  {
   "cell_type": "code",
   "execution_count": 2,
   "metadata": {},
   "outputs": [
    {
     "name": "stdout",
     "output_type": "stream",
     "text": [
      "Index(['Unnamed: 0', 'pair_id', 'id1', 'id2', 'text1', 'text2', 'overall',\n",
      "       'lang1', 'lang2'],\n",
      "      dtype='object')\n"
     ]
    }
   ],
   "source": [
    "train_data = pd.read_csv(\"../../data/train/train.csv\")\n",
    "test_data = pd.read_csv(\"../../data/test/final_test_pairs.csv\")\n",
    "\n",
    "print(train_data.columns)"
   ]
  },
  {
   "cell_type": "code",
   "execution_count": 22,
   "metadata": {},
   "outputs": [],
   "source": [
    "def select_tokens(n_head: int, n_tail: int, text: str):\n",
    "    \"\"\"\n",
    "        Select n tokens from either head or tail of the text.\n",
    "\n",
    "        Parameters:\n",
    "            n_head: number of tokens from the head of the text\n",
    "            n_tail: number of tokens from the tail of the text\n",
    "            text: text to select tokens from\n",
    "    \"\"\"\n",
    "\n",
    "    tokens = text.split()\n",
    "    n_tokens = len(tokens)\n",
    "\n",
    "    if n_tokens <= n_head + n_tail:\n",
    "        return text\n",
    "\n",
    "    head = tokens[:n_head]\n",
    "    tail = tokens[-n_tail:]\n",
    "\n",
    "    return \" \".join(head + tail)\n"
   ]
  },
  {
   "cell_type": "markdown",
   "metadata": {},
   "source": [
    "# Get the embeddings for the train set"
   ]
  },
  {
   "cell_type": "code",
   "execution_count": null,
   "metadata": {},
   "outputs": [],
   "source": [
    "def pad_embedding(embedding, target_length):\n",
    "    \"\"\"\n",
    "    Pads the embedding tensor to the target length with zeros.\n",
    "\n",
    "    Parameters:\n",
    "        embedding: The embedding tensor of shape [1, sequence_length, embedding_size].\n",
    "        target_length: The target sequence length.\n",
    "    \"\"\"\n",
    "    current_length = embedding.size(1)\n",
    "    padding_length = target_length - current_length\n",
    "    if padding_length > 0:\n",
    "        # padding is added as [1, padding_length, embedding_size]\n",
    "        padding = torch.zeros((1, padding_length, embedding.size(2)))\n",
    "        padded_embedding = torch.cat([embedding, padding], dim=1)\n",
    "        return padded_embedding\n",
    "    else:\n",
    "        return embedding"
   ]
  },
  {
   "cell_type": "code",
   "execution_count": 5,
   "metadata": {},
   "outputs": [
    {
     "name": "stdout",
     "output_type": "stream",
     "text": [
      "512\n"
     ]
    }
   ],
   "source": [
    "max_length = tokenizer.model_max_length\n",
    "print(max_length)"
   ]
  },
  {
   "cell_type": "code",
   "execution_count": 41,
   "metadata": {},
   "outputs": [
    {
     "name": "stdout",
     "output_type": "stream",
     "text": [
      "<s> MARTINSBURG, W.Va. — A suspected drunken driver was arrested in a New Year’s Day highway crash that killed another motorist in West Virginia, police said.The accident occurred early Wednesday along southbound Interstate 81 in Berkeley County, The Journal reported.Cody Wade Braithwaite, 32, of Winchester, Virginia, was charged with DUI with death, fleeing DUI, and being a prohibited person in possession of a firearm and a fugitive from justice, Berkeley County Sheriff Curtis Keller said.Keller said a deputy investigating calls about a reckless driver attempted to make a traffic stop, but the suspect’s vehicle sped up and hit a car, which then struck a guardrail. The driver of the car was pronounced dead at the scene. The driver’s name was not immediately released.The suspect hit a deputy’s cruiser before being stopped, Keller said.Braithwaite was being held without bond in the Eastern Regional Jail. It wasn’t immediately known whether Braithwaite has an attorney.___Information from: The Journal,</s>\n",
      "256\n"
     ]
    }
   ],
   "source": [
    "train_embeddings = torch.empty((len(train_data), 512, 768))\n",
    "\n",
    "for i in range(len(train_data)):\n",
    "    text1 = select_tokens(200, 56, train_data[\"text1\"][i])\n",
    "    text2 = select_tokens(200, 56, train_data[\"text2\"][i])\n",
    "    text1_tokenized = tokenizer(train_data[\"text1\"][i], return_tensors=\"pt\", padding=True, truncation=True, max_length=512)\n",
    "    text2_tokenized = tokenizer(train_data[\"text2\"][i], return_tensors=\"pt\", padding=True, truncation=True, max_length=512)\n",
    "    \n",
    "    text1_tokenized[\"shorten_ids\"] = torch.cat((text1_tokenized[\"input_ids\"][:, :200], text1_tokenized[\"input_ids\"][:, -56:]), dim=1)\n",
    "    text2_tokenized[\"shorten_ids\"] = torch.cat((text2_tokenized[\"input_ids\"][:, :200], text2_tokenized[\"input_ids\"][:, -56:]), dim=1)\n",
    "    "
   ]
  },
  {
   "cell_type": "code",
   "execution_count": null,
   "metadata": {},
   "outputs": [],
   "source": [
    "train_embeddings = torch.empty((len(train_data), 512, 768))\n",
    "\n",
    "for i, text in enumerate(train_data[\"text_truncated\"]):\n",
    "    inputs = tokenizer(text, return_tensors=\"pt\", padding=True, truncation=True, max_length=512)\n",
    "    ##print tokenized text\n",
    "    print(text)\n",
    "    for token in inputs[\"input_ids\"][0]:   \n",
    "        print(tokenizer.decode(token))\n",
    "    \n",
    "\n",
    "    with torch.no_grad():\n",
    "        outputs = model(**inputs)\n",
    "        embeddings = outputs.last_hidden_state\n",
    "        embeddings = pad_embedding(embeddings, 512)\n",
    "        \n",
    "    train_embeddings[i] = embeddings\n",
    "\n",
    "print(train_embeddings.shape)"
   ]
  },
  {
   "cell_type": "code",
   "execution_count": null,
   "metadata": {},
   "outputs": [],
   "source": []
  }
 ],
 "metadata": {
  "kernelspec": {
   "display_name": "thesis_env",
   "language": "python",
   "name": "python3"
  },
  "language_info": {
   "codemirror_mode": {
    "name": "ipython",
    "version": 3
   },
   "file_extension": ".py",
   "mimetype": "text/x-python",
   "name": "python",
   "nbconvert_exporter": "python",
   "pygments_lexer": "ipython3",
   "version": "3.12.1"
  }
 },
 "nbformat": 4,
 "nbformat_minor": 2
}
