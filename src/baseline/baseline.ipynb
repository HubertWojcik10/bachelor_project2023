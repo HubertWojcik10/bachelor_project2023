{
 "cells": [
  {
   "cell_type": "code",
   "execution_count": 23,
   "metadata": {},
   "outputs": [],
   "source": [
    "import pandas as pd\n",
    "from transformers import XLMRobertaModel, XLMRobertaTokenizer\n",
    "import torch\n",
    "\n",
    "tokenizer = XLMRobertaTokenizer.from_pretrained(\"xlm-roberta-base\")\n",
    "model = XLMRobertaModel.from_pretrained(\"xlm-roberta-base\")"
   ]
  },
  {
   "cell_type": "code",
   "execution_count": 2,
   "metadata": {},
   "outputs": [
    {
     "name": "stdout",
     "output_type": "stream",
     "text": [
      "Index(['Unnamed: 0', 'pair_id', 'id1', 'id2', 'text1', 'text2', 'overall',\n",
      "       'lang1', 'lang2'],\n",
      "      dtype='object')\n"
     ]
    }
   ],
   "source": [
    "train_data = pd.read_csv(\"../../data/train/train.csv\")\n",
    "test_data = pd.read_csv(\"../../data/test/final_test_pairs.csv\")\n",
    "\n",
    "print(train_data.columns)"
   ]
  },
  {
   "cell_type": "code",
   "execution_count": 3,
   "metadata": {},
   "outputs": [],
   "source": [
    "def select_tokens(n_head: int, n_tail: int, text: str):\n",
    "    \"\"\"\n",
    "        Select n tokens from either head or tail of the text.\n",
    "\n",
    "        Parameters:\n",
    "            n_head: number of tokens from the head of the text\n",
    "            n_tail: number of tokens from the tail of the text\n",
    "            text: text to select tokens from\n",
    "    \"\"\"\n",
    "\n",
    "    tokens = text.split()\n",
    "    n_tokens = len(tokens)\n",
    "\n",
    "    if n_tokens <= n_head + n_tail:\n",
    "        return text\n",
    "\n",
    "    head = tokens[:n_head]\n",
    "    tail = tokens[-n_tail:]\n",
    "\n",
    "    return \" \".join(head + tail)\n",
    "\n",
    "N_HEAD = 200\n",
    "N_TAIL = 56\n",
    "\n",
    "# truncate the text by getting N_HEAD tokens from the head and N_TAIL tokens from the tail\n",
    "train_data[\"text1_truncated\"] = train_data[\"text1\"].apply(lambda x: select_tokens(N_HEAD, N_TAIL, x))\n",
    "train_data[\"text2_truncated\"] = train_data[\"text2\"].apply(lambda x: select_tokens(N_HEAD, N_TAIL, x))\n",
    "\n",
    "# concatenate the truncated texts with a separator token\n",
    "train_data[\"text_truncated\"] = train_data[\"text1_truncated\"] + \" <sep> \" + train_data[\"text2_truncated\"]"
   ]
  },
  {
   "cell_type": "markdown",
   "metadata": {},
   "source": [
    "# Get the embeddings for the train set"
   ]
  },
  {
   "cell_type": "code",
   "execution_count": 21,
   "metadata": {},
   "outputs": [],
   "source": [
    "def pad_embedding(embedding, target_length):\n",
    "    \"\"\"\n",
    "    Pads the embedding tensor to the target length with zeros.\n",
    "\n",
    "    Parameters:\n",
    "        embedding: The embedding tensor of shape [1, sequence_length, embedding_size].\n",
    "        target_length: The target sequence length.\n",
    "    \"\"\"\n",
    "    current_length = embedding.size(1)\n",
    "    padding_length = target_length - current_length\n",
    "    if padding_length > 0:\n",
    "        # padding is added as [1, padding_length, embedding_size]\n",
    "        padding = torch.zeros((1, padding_length, embedding.size(2)))\n",
    "        padded_embedding = torch.cat([embedding, padding], dim=1)\n",
    "        return padded_embedding\n",
    "    else:\n",
    "        return embedding"
   ]
  },
  {
   "cell_type": "code",
   "execution_count": null,
   "metadata": {},
   "outputs": [],
   "source": [
    "train_embeddings = torch.empty((len(train_data), 512, 768))\n",
    "\n",
    "for i, text in enumerate(train_data[\"text_truncated\"]):\n",
    "    inputs = tokenizer(text, return_tensors=\"pt\", padding=True, truncation=True, max_length=512)\n",
    "    with torch.no_grad():\n",
    "        outputs = model(**inputs)\n",
    "        embeddings = outputs.last_hidden_state\n",
    "        embeddings = pad_embedding(embeddings, 512)\n",
    "        \n",
    "    train_embeddings[i] = embeddings\n",
    "\n",
    "print(train_embeddings.shape)"
   ]
  }
 ],
 "metadata": {
  "kernelspec": {
   "display_name": "thesis_env",
   "language": "python",
   "name": "python3"
  },
  "language_info": {
   "codemirror_mode": {
    "name": "ipython",
    "version": 3
   },
   "file_extension": ".py",
   "mimetype": "text/x-python",
   "name": "python",
   "nbconvert_exporter": "python",
   "pygments_lexer": "ipython3",
   "version": "3.9.18"
  }
 },
 "nbformat": 4,
 "nbformat_minor": 2
}
