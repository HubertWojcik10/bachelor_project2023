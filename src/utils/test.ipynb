{
 "cells": [
  {
   "cell_type": "code",
   "execution_count": null,
   "metadata": {},
   "outputs": [],
   "source": [
    "import pandas as pd\n",
    "from chunker import Chunker\n",
    "from transformers import XLMRobertaTokenizer"
   ]
  },
  {
   "cell_type": "code",
   "execution_count": null,
   "metadata": {},
   "outputs": [],
   "source": [
    "tokenizer = XLMRobertaTokenizer.from_pretrained('xlm-roberta-base')\n",
    "c= Chunker(tokenizer= tokenizer, max_length= 512)"
   ]
  },
  {
   "cell_type": "code",
   "execution_count": null,
   "metadata": {},
   "outputs": [],
   "source": [
    "train = pd.read_csv('../../data/train/train.csv', delimiter=',')\n",
    "train_text1 = train['text1']\n",
    "train_text2 = train['text2']"
   ]
  },
  {
   "cell_type": "code",
   "execution_count": null,
   "metadata": {},
   "outputs": [],
   "source": [
    "train_text1['chunks'] = train_text1.apply(lambda x: c.chunk(x))\n",
    "train_text2['chunks'] = train_text2.apply(lambda x: c.chunk(x))"
   ]
  },
  {
   "cell_type": "code",
   "execution_count": null,
   "metadata": {},
   "outputs": [],
   "source": [
    "text1_lengths = []\n",
    "text2_lengths = []\n",
    "\n",
    "for i in range(0,4874):\n",
    "    #check all the lengths of the chunks and store them with the index. at the end sort them in descending order\n",
    "    #and store the index of the sorted chunks\n",
    "    text1_lengths.append((i, len(train_text1['chunks'][i])))\n",
    "    text2_lengths.append((i, len(train_text2['chunks'][i])))\n",
    "\n",
    "text1_lengths = sorted(text1_lengths, key= lambda x: x[1], reverse= True)\n",
    "text2_lengths = sorted(text2_lengths, key= lambda x: x[1], reverse= True)\n",
    "print(text1_lengths)\n",
    "print(text2_lengths)\n",
    "   \n",
    "    "
   ]
  }
 ],
 "metadata": {
  "kernelspec": {
   "display_name": "project",
   "language": "python",
   "name": "python3"
  },
  "language_info": {
   "codemirror_mode": {
    "name": "ipython",
    "version": 3
   },
   "file_extension": ".py",
   "mimetype": "text/x-python",
   "name": "python",
   "nbconvert_exporter": "python",
   "pygments_lexer": "ipython3",
   "version": "3.12.1"
  }
 },
 "nbformat": 4,
 "nbformat_minor": 2
}
