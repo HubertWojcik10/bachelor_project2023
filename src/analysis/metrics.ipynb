{
 "cells": [
  {
   "cell_type": "code",
   "execution_count": 1,
   "metadata": {},
   "outputs": [],
   "source": [
    "import warnings \n",
    "warnings.filterwarnings(\"ignore\")"
   ]
  },
  {
   "cell_type": "code",
   "execution_count": 2,
   "metadata": {},
   "outputs": [],
   "source": [
    "%run ./analysis_utils/log_retriever.py"
   ]
  },
  {
   "cell_type": "code",
   "execution_count": 3,
   "metadata": {},
   "outputs": [
    {
     "name": "stdout",
     "output_type": "stream",
     "text": [
      "5\n",
      "5\n",
      "5\n"
     ]
    }
   ],
   "source": [
    "baseline_log_retriever = LogRetreiver(model=\"baseline\", test_path=\"../../data/test/merged_test_data.csv\")\n",
    "_, baseline_pred_dfs = baseline_log_retriever.get_logs()\n",
    "\n",
    "chunk_log_retriever = LogRetreiver(model=\"chunk_combinations\", test_path=\"../../data/test/merged_test_data.csv\")\n",
    "_, chunk_pred_dfs = chunk_log_retriever.get_logs()\n",
    "\n",
    "text_summarizer_log_retriever = LogRetreiver(model=\"text_summarizer\", test_path=\"../../data/test/merged_test_data.csv\")\n",
    "_, text_summarizer_pred_dfs = text_summarizer_log_retriever.get_logs()"
   ]
  },
  {
   "cell_type": "code",
   "execution_count": 4,
   "metadata": {},
   "outputs": [],
   "source": [
    "def merge_with_test(pred_dfs):\n",
    "    merged_dfs = []\n",
    "    test_df = pd.read_csv(\"../../data/test/merged_test_data.csv\")\n",
    "    for pred_df in pred_dfs:\n",
    "        merged_df = pd.merge(test_df, pred_df, on=\"pair_id\")\n",
    "        if \"overall_x\" in merged_df.columns:\n",
    "            merged_df = merged_df.rename(columns={\"overall_x\": \"overall\"})\n",
    "            merged_df = merged_df.drop(columns=[\"overall_y\"])\n",
    "        merged_dfs.append(merged_df)\n",
    "\n",
    "    return merged_dfs\n",
    "\n",
    "def get_avg_dist(merged_dfs, model=\"baseline\"):\n",
    "    avg_dists = []\n",
    "    for merged_df in merged_dfs:\n",
    "        if model != \"chunk_combinations\":\n",
    "            merged_df[\"dist\"] = abs(merged_df[\"overall\"] - merged_df[\"pred\"])\n",
    "        else:\n",
    "            merged_df[\"dist\"] = abs(merged_df[\"overall\"] - merged_df[\"logits\"])\n",
    "        avg_dist = merged_df[\"dist\"].mean()\n",
    "        avg_dists.append(avg_dist)\n",
    "\n",
    "    avg_dist = sum(avg_dists) / len(avg_dists)\n",
    "    return avg_dist\n",
    "\n",
    "def run(pred_dfs, model=\"baseline\"):\n",
    "    merged_dfs = merge_with_test(pred_dfs)\n",
    "    avg_dist = get_avg_dist(merged_dfs, model=model)\n",
    "\n",
    "    return avg_dist"
   ]
  },
  {
   "cell_type": "code",
   "execution_count": 5,
   "metadata": {},
   "outputs": [
    {
     "name": "stdout",
     "output_type": "stream",
     "text": [
      "Baseline avg dist: 0.6945433523699905\n",
      "Chunk avg dist: 0.7595411479349905\n",
      "Text summarizer avg dist: 0.7389031005472665\n"
     ]
    }
   ],
   "source": [
    "baseline_avg_dist = run(baseline_pred_dfs, model=\"baseline\")\n",
    "chunk_avg_dist = run(chunk_pred_dfs, model=\"chunk_combinations\")\n",
    "text_summarizer_avg_dist = run(text_summarizer_pred_dfs, model=\"text_summarizer\")\n",
    "\n",
    "print(f\"Baseline avg dist: {baseline_avg_dist}\")\n",
    "print(f\"Chunk avg dist: {chunk_avg_dist}\")\n",
    "print(f\"Text summarizer avg dist: {text_summarizer_avg_dist}\")"
   ]
  },
  {
   "cell_type": "code",
   "execution_count": 6,
   "metadata": {},
   "outputs": [
    {
     "data": {
      "text/html": [
       "<div>\n",
       "<style scoped>\n",
       "    .dataframe tbody tr th:only-of-type {\n",
       "        vertical-align: middle;\n",
       "    }\n",
       "\n",
       "    .dataframe tbody tr th {\n",
       "        vertical-align: top;\n",
       "    }\n",
       "\n",
       "    .dataframe thead th {\n",
       "        text-align: right;\n",
       "    }\n",
       "</style>\n",
       "<table border=\"1\" class=\"dataframe\">\n",
       "  <thead>\n",
       "    <tr style=\"text-align: right;\">\n",
       "      <th></th>\n",
       "      <th>true</th>\n",
       "      <th>pred</th>\n",
       "      <th>id1</th>\n",
       "      <th>id2</th>\n",
       "      <th>pair_id</th>\n",
       "    </tr>\n",
       "  </thead>\n",
       "  <tbody>\n",
       "    <tr>\n",
       "      <th>0</th>\n",
       "      <td>2.0</td>\n",
       "      <td>1.275662</td>\n",
       "      <td>1544695356</td>\n",
       "      <td>1543856243</td>\n",
       "      <td>1544695356_1543856243</td>\n",
       "    </tr>\n",
       "    <tr>\n",
       "      <th>1</th>\n",
       "      <td>3.0</td>\n",
       "      <td>3.662091</td>\n",
       "      <td>1558575944</td>\n",
       "      <td>1558260621</td>\n",
       "      <td>1558575944_1558260621</td>\n",
       "    </tr>\n",
       "    <tr>\n",
       "      <th>2</th>\n",
       "      <td>3.0</td>\n",
       "      <td>3.940144</td>\n",
       "      <td>1587083102</td>\n",
       "      <td>1584460230</td>\n",
       "      <td>1587083102_1584460230</td>\n",
       "    </tr>\n",
       "    <tr>\n",
       "      <th>3</th>\n",
       "      <td>2.0</td>\n",
       "      <td>3.705279</td>\n",
       "      <td>1626919601</td>\n",
       "      <td>1627431440</td>\n",
       "      <td>1626919601_1627431440</td>\n",
       "    </tr>\n",
       "    <tr>\n",
       "      <th>4</th>\n",
       "      <td>4.0</td>\n",
       "      <td>2.987852</td>\n",
       "      <td>1578970555</td>\n",
       "      <td>1582067061</td>\n",
       "      <td>1578970555_1582067061</td>\n",
       "    </tr>\n",
       "  </tbody>\n",
       "</table>\n",
       "</div>"
      ],
      "text/plain": [
       "   true      pred         id1         id2                pair_id\n",
       "0   2.0  1.275662  1544695356  1543856243  1544695356_1543856243\n",
       "1   3.0  3.662091  1558575944  1558260621  1558575944_1558260621\n",
       "2   3.0  3.940144  1587083102  1584460230  1587083102_1584460230\n",
       "3   2.0  3.705279  1626919601  1627431440  1626919601_1627431440\n",
       "4   4.0  2.987852  1578970555  1582067061  1578970555_1582067061"
      ]
     },
     "execution_count": 6,
     "metadata": {},
     "output_type": "execute_result"
    }
   ],
   "source": [
    "baseline_pred_dfs[0].head()"
   ]
  },
  {
   "cell_type": "markdown",
   "metadata": {},
   "source": [
    "#### Pearson Correlation Coefficient"
   ]
  },
  {
   "cell_type": "code",
   "execution_count": 13,
   "metadata": {},
   "outputs": [],
   "source": [
    "def calc_pearson_corr(pred_dfs, model=\"baseline\"):\n",
    "    pearson_corrs = []\n",
    "    for pred_df in pred_dfs:\n",
    "        if model != \"chunk_combinations\":\n",
    "            pearson_corr = pred_df[\"true\"].corr(pred_df[\"pred\"], method=\"pearson\")\n",
    "        else:\n",
    "            pearson_corr = pred_df[\"overall\"].corr(pred_df[\"logits\"], method=\"pearson\")\n",
    "        pearson_corrs.append(pearson_corr)\n",
    "\n",
    "    return sum(pearson_corrs) / len(pearson_corrs)"
   ]
  },
  {
   "cell_type": "code",
   "execution_count": 14,
   "metadata": {},
   "outputs": [
    {
     "name": "stdout",
     "output_type": "stream",
     "text": [
      "Baseline Pearson correlation: 0.677053163091454\n",
      "Text summarizer Pearson correlation: 0.6321327449326901\n",
      "Chunk combinations Pearson correlation: 0.6251145664467239\n"
     ]
    }
   ],
   "source": [
    "baseline_pearson_corr = calc_pearson_corr(baseline_pred_dfs)\n",
    "print(f\"Baseline Pearson correlation: {baseline_pearson_corr}\")\n",
    "\n",
    "text_summarizer_pearson_corr = calc_pearson_corr(text_summarizer_pred_dfs)\n",
    "print(f\"Text summarizer Pearson correlation: {text_summarizer_pearson_corr}\")\n",
    "\n",
    "chunk_combinations_pearson_corr = calc_pearson_corr(chunk_pred_dfs, model=\"chunk_combinations\")\n",
    "print(f\"Chunk combinations Pearson correlation: {chunk_combinations_pearson_corr}\")"
   ]
  },
  {
   "cell_type": "code",
   "execution_count": null,
   "metadata": {},
   "outputs": [],
   "source": []
  }
 ],
 "metadata": {
  "kernelspec": {
   "display_name": "thesis_env",
   "language": "python",
   "name": "python3"
  },
  "language_info": {
   "codemirror_mode": {
    "name": "ipython",
    "version": 3
   },
   "file_extension": ".py",
   "mimetype": "text/x-python",
   "name": "python",
   "nbconvert_exporter": "python",
   "pygments_lexer": "ipython3",
   "version": "3.9.18"
  }
 },
 "nbformat": 4,
 "nbformat_minor": 2
}
