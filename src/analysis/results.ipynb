{
 "cells": [
  {
   "cell_type": "code",
   "execution_count": 1,
   "metadata": {},
   "outputs": [],
   "source": [
    "import warnings \n",
    "warnings.filterwarnings(\"ignore\")"
   ]
  },
  {
   "cell_type": "code",
   "execution_count": 2,
   "metadata": {},
   "outputs": [],
   "source": [
    "%run ./analysis_utils/lang_comparer.py\n",
    "%run ./analysis_utils/chunk_comparer.py"
   ]
  },
  {
   "cell_type": "markdown",
   "metadata": {},
   "source": [
    "#### Utils"
   ]
  },
  {
   "cell_type": "code",
   "execution_count": 3,
   "metadata": {},
   "outputs": [],
   "source": [
    "def merge_results(results, merge_on=\"chunk_bucket\"):\n",
    "    model_names = list(results.keys())\n",
    "    model_dfs = list(results.values())\n",
    "    merged = model_dfs[0]\n",
    "    for i, (model_name, model_df) in enumerate(zip(model_names[1:], model_dfs[1:])):\n",
    "        if merge_on == \"chunk_bucket\":\n",
    "            model_df = model_df.drop(columns=[\"chunk_buckets\", \"count\"])\n",
    "        else:\n",
    "            model_df = model_df.drop(columns=[\"count\"])\n",
    "        merged = merged.merge(model_df, on=merge_on, suffixes=(\"\", f\"_{model_name}\"))\n",
    "    return merged"
   ]
  },
  {
   "cell_type": "markdown",
   "metadata": {},
   "source": [
    "### Lang Comparison"
   ]
  },
  {
   "cell_type": "code",
   "execution_count": 4,
   "metadata": {},
   "outputs": [],
   "source": [
    "baseline_lang_comparer = LangComparer(model=\"baseline\", test_path=\"../../data/test/merged_test_data.csv\")\n",
    "baseline_df = baseline_lang_comparer.run()\n",
    "\n",
    "chunk_lang_comparer = LangComparer(model=\"chunk_combinations\", test_path=\"../../data/test/merged_test_data.csv\")\n",
    "chunk_df = chunk_lang_comparer.run()\n",
    "\n",
    "text_sum_lang_comparer = LangComparer(model=\"text_summarizer\", test_path=\"../../data/test/merged_test_data.csv\")\n",
    "text_sum_df = text_sum_lang_comparer.run()\n",
    "\n",
    "results = {\n",
    "    \"baseline\": baseline_df,\n",
    "    \"chunk_combinations\": chunk_df,\n",
    "    \"text_summarizer\": text_sum_df\n",
    "}\n",
    "\n",
    "merged_df = merge_results(results, merge_on=\"lang_pair\")"
   ]
  },
  {
   "cell_type": "code",
   "execution_count": 5,
   "metadata": {},
   "outputs": [],
   "source": [
    "merged_df[\"corr_diff_1_4_percentage\"] = round((merged_df[\"mean_corr_chunk_combinations\"] - merged_df[\"mean_corr\"]) / merged_df[\"mean_corr\"] * 100, 2)\n",
    "merged_df[\"corr_diff_1_2_percentage\"] = round((merged_df[\"mean_corr_text_summarizer\"] - merged_df[\"mean_corr\"]) / merged_df[\"mean_corr\"] * 100, 2)"
   ]
  },
  {
   "cell_type": "code",
   "execution_count": 6,
   "metadata": {},
   "outputs": [
    {
     "data": {
      "text/html": [
       "<div>\n",
       "<style scoped>\n",
       "    .dataframe tbody tr th:only-of-type {\n",
       "        vertical-align: middle;\n",
       "    }\n",
       "\n",
       "    .dataframe tbody tr th {\n",
       "        vertical-align: top;\n",
       "    }\n",
       "\n",
       "    .dataframe thead th {\n",
       "        text-align: right;\n",
       "    }\n",
       "</style>\n",
       "<table border=\"1\" class=\"dataframe\">\n",
       "  <thead>\n",
       "    <tr style=\"text-align: right;\">\n",
       "      <th></th>\n",
       "      <th>count</th>\n",
       "      <th>mean_corr</th>\n",
       "      <th>mean_corr_chunk_combinations</th>\n",
       "      <th>mean_corr_text_summarizer</th>\n",
       "      <th>corr_diff_1_4_percentage</th>\n",
       "      <th>corr_diff_1_2_percentage</th>\n",
       "    </tr>\n",
       "    <tr>\n",
       "      <th>lang_pair</th>\n",
       "      <th></th>\n",
       "      <th></th>\n",
       "      <th></th>\n",
       "      <th></th>\n",
       "      <th></th>\n",
       "      <th></th>\n",
       "    </tr>\n",
       "  </thead>\n",
       "  <tbody>\n",
       "    <tr>\n",
       "      <th>de_de</th>\n",
       "      <td>498</td>\n",
       "      <td>0.6825</td>\n",
       "      <td>0.666667</td>\n",
       "      <td>0.674</td>\n",
       "      <td>-2.32</td>\n",
       "      <td>-1.25</td>\n",
       "    </tr>\n",
       "    <tr>\n",
       "      <th>es_en</th>\n",
       "      <td>381</td>\n",
       "      <td>0.7025</td>\n",
       "      <td>0.666667</td>\n",
       "      <td>0.650</td>\n",
       "      <td>-5.10</td>\n",
       "      <td>-7.47</td>\n",
       "    </tr>\n",
       "    <tr>\n",
       "      <th>it_it</th>\n",
       "      <td>351</td>\n",
       "      <td>0.7250</td>\n",
       "      <td>0.693333</td>\n",
       "      <td>0.636</td>\n",
       "      <td>-4.37</td>\n",
       "      <td>-12.28</td>\n",
       "    </tr>\n",
       "    <tr>\n",
       "      <th>en_en</th>\n",
       "      <td>264</td>\n",
       "      <td>0.7125</td>\n",
       "      <td>0.663333</td>\n",
       "      <td>0.674</td>\n",
       "      <td>-6.90</td>\n",
       "      <td>-5.40</td>\n",
       "    </tr>\n",
       "    <tr>\n",
       "      <th>es_it</th>\n",
       "      <td>251</td>\n",
       "      <td>0.6500</td>\n",
       "      <td>0.483333</td>\n",
       "      <td>0.548</td>\n",
       "      <td>-25.64</td>\n",
       "      <td>-15.69</td>\n",
       "    </tr>\n",
       "  </tbody>\n",
       "</table>\n",
       "</div>"
      ],
      "text/plain": [
       "          count  mean_corr  mean_corr_chunk_combinations  \\\n",
       "lang_pair                                                  \n",
       "de_de       498     0.6825                      0.666667   \n",
       "es_en       381     0.7025                      0.666667   \n",
       "it_it       351     0.7250                      0.693333   \n",
       "en_en       264     0.7125                      0.663333   \n",
       "es_it       251     0.6500                      0.483333   \n",
       "\n",
       "           mean_corr_text_summarizer  corr_diff_1_4_percentage  \\\n",
       "lang_pair                                                        \n",
       "de_de                          0.674                     -2.32   \n",
       "es_en                          0.650                     -5.10   \n",
       "it_it                          0.636                     -4.37   \n",
       "en_en                          0.674                     -6.90   \n",
       "es_it                          0.548                    -25.64   \n",
       "\n",
       "           corr_diff_1_2_percentage  \n",
       "lang_pair                            \n",
       "de_de                         -1.25  \n",
       "es_en                         -7.47  \n",
       "it_it                        -12.28  \n",
       "en_en                         -5.40  \n",
       "es_it                        -15.69  "
      ]
     },
     "execution_count": 6,
     "metadata": {},
     "output_type": "execute_result"
    }
   ],
   "source": [
    "merged_df.head()"
   ]
  },
  {
   "cell_type": "markdown",
   "metadata": {},
   "source": [
    "### Chunk Comparison"
   ]
  },
  {
   "cell_type": "code",
   "execution_count": 7,
   "metadata": {},
   "outputs": [],
   "source": [
    "baseline_chunk_comparer = ChunkComparer(model=\"baseline\", test_path=\"../../data/test/merged_test_data.csv\")\n",
    "baseline_chunk_df = baseline_chunk_comparer.run()\n",
    "\n",
    "chunk_chunk_comparer = ChunkComparer(model=\"chunk_combinations\", test_path=\"../../data/test/merged_test_data.csv\")\n",
    "chunk_chunk_df = chunk_chunk_comparer.run()\n",
    "\n",
    "text_sum_chunk_comparer = ChunkComparer(model=\"text_summarizer\", test_path=\"../../data/test/merged_test_data.csv\")\n",
    "text_sum_chunk_df = text_sum_chunk_comparer.run()\n",
    "\n",
    "results = {\n",
    "    \"baseline\": baseline_chunk_df,\n",
    "    \"chunk_combinations\": chunk_chunk_df,\n",
    "    \"text_summarizer\": text_sum_chunk_df\n",
    "}"
   ]
  },
  {
   "cell_type": "markdown",
   "metadata": {},
   "source": [
    "#### Plot Chunk Number (for 1. Baseline)"
   ]
  },
  {
   "cell_type": "code",
   "execution_count": 8,
   "metadata": {},
   "outputs": [
    {
     "data": {
      "image/png": "[encoded data removed]",
      "text/plain": [
       "<Figure size 1000x500 with 2 Axes>"
      ]
     },
     "metadata": {},
     "output_type": "display_data"
    }
   ],
   "source": [
    "baseline_chunk_comparer.plot_chunk_num(baseline_chunk_comparer.test_df_with_chunk_num)"
   ]
  },
  {
   "cell_type": "markdown",
   "metadata": {},
   "source": [
    "#### Plot Chunk Combination Number (for 3. Chunk Combinations)"
   ]
  },
  {
   "cell_type": "code",
   "execution_count": 9,
   "metadata": {},
   "outputs": [
    {
     "data": {
      "image/png": "[encoded data removed]",
      "text/plain": [
       "<Figure size 600x400 with 1 Axes>"
      ]
     },
     "metadata": {},
     "output_type": "display_data"
    }
   ],
   "source": [
    "chunk_chunk_comparer.plot_chunk_combinations_num(chunk_chunk_comparer.test_df_with_chunk_num)"
   ]
  },
  {
   "cell_type": "code",
   "execution_count": 10,
   "metadata": {},
   "outputs": [
    {
     "data": {
      "text/html": [
       "<div>\n",
       "<style scoped>\n",
       "    .dataframe tbody tr th:only-of-type {\n",
       "        vertical-align: middle;\n",
       "    }\n",
       "\n",
       "    .dataframe tbody tr th {\n",
       "        vertical-align: top;\n",
       "    }\n",
       "\n",
       "    .dataframe thead th {\n",
       "        text-align: right;\n",
       "    }\n",
       "</style>\n",
       "<table border=\"1\" class=\"dataframe\">\n",
       "  <thead>\n",
       "    <tr style=\"text-align: right;\">\n",
       "      <th></th>\n",
       "      <th>count</th>\n",
       "      <th>chunk_buckets</th>\n",
       "      <th>avg_corr</th>\n",
       "      <th>avg_corr_chunk_combinations</th>\n",
       "      <th>avg_corr_text_summarizer</th>\n",
       "      <th>corr_diff_1_4_percentage</th>\n",
       "      <th>corr_diff_1_2_percentage</th>\n",
       "    </tr>\n",
       "    <tr>\n",
       "      <th>chunk_bucket</th>\n",
       "      <th></th>\n",
       "      <th></th>\n",
       "      <th></th>\n",
       "      <th></th>\n",
       "      <th></th>\n",
       "      <th></th>\n",
       "      <th></th>\n",
       "    </tr>\n",
       "  </thead>\n",
       "  <tbody>\n",
       "    <tr>\n",
       "      <th>2</th>\n",
       "      <td>1341</td>\n",
       "      <td>(0, 2)</td>\n",
       "      <td>0.6725</td>\n",
       "      <td>0.593333</td>\n",
       "      <td>0.676</td>\n",
       "      <td>-11.77</td>\n",
       "      <td>0.52</td>\n",
       "    </tr>\n",
       "    <tr>\n",
       "      <th>4</th>\n",
       "      <td>1241</td>\n",
       "      <td>(2, 4)</td>\n",
       "      <td>0.6900</td>\n",
       "      <td>0.643333</td>\n",
       "      <td>0.650</td>\n",
       "      <td>-6.76</td>\n",
       "      <td>-5.80</td>\n",
       "    </tr>\n",
       "    <tr>\n",
       "      <th>6</th>\n",
       "      <td>702</td>\n",
       "      <td>(4, 6)</td>\n",
       "      <td>0.6800</td>\n",
       "      <td>0.636667</td>\n",
       "      <td>0.618</td>\n",
       "      <td>-6.37</td>\n",
       "      <td>-9.12</td>\n",
       "    </tr>\n",
       "    <tr>\n",
       "      <th>8</th>\n",
       "      <td>235</td>\n",
       "      <td>(6, 8)</td>\n",
       "      <td>0.6450</td>\n",
       "      <td>0.633333</td>\n",
       "      <td>0.576</td>\n",
       "      <td>-1.81</td>\n",
       "      <td>-10.70</td>\n",
       "    </tr>\n",
       "    <tr>\n",
       "      <th>10</th>\n",
       "      <td>377</td>\n",
       "      <td>(8, 10)</td>\n",
       "      <td>0.7125</td>\n",
       "      <td>0.650000</td>\n",
       "      <td>0.594</td>\n",
       "      <td>-8.77</td>\n",
       "      <td>-16.63</td>\n",
       "    </tr>\n",
       "    <tr>\n",
       "      <th>12</th>\n",
       "      <td>312</td>\n",
       "      <td>(10, 12)</td>\n",
       "      <td>0.7175</td>\n",
       "      <td>0.703333</td>\n",
       "      <td>0.624</td>\n",
       "      <td>-1.97</td>\n",
       "      <td>-13.03</td>\n",
       "    </tr>\n",
       "    <tr>\n",
       "      <th>14</th>\n",
       "      <td>27</td>\n",
       "      <td>(12, 14)</td>\n",
       "      <td>0.6625</td>\n",
       "      <td>0.623333</td>\n",
       "      <td>0.642</td>\n",
       "      <td>-5.91</td>\n",
       "      <td>-3.09</td>\n",
       "    </tr>\n",
       "    <tr>\n",
       "      <th>16</th>\n",
       "      <td>192</td>\n",
       "      <td>(14, 16)</td>\n",
       "      <td>0.6725</td>\n",
       "      <td>0.636667</td>\n",
       "      <td>0.590</td>\n",
       "      <td>-5.33</td>\n",
       "      <td>-12.27</td>\n",
       "    </tr>\n",
       "    <tr>\n",
       "      <th>18</th>\n",
       "      <td>58</td>\n",
       "      <td>(16, 18)</td>\n",
       "      <td>0.6400</td>\n",
       "      <td>0.640000</td>\n",
       "      <td>0.624</td>\n",
       "      <td>0.00</td>\n",
       "      <td>-2.50</td>\n",
       "    </tr>\n",
       "    <tr>\n",
       "      <th>20</th>\n",
       "      <td>78</td>\n",
       "      <td>(18, 20)</td>\n",
       "      <td>0.6650</td>\n",
       "      <td>0.600000</td>\n",
       "      <td>0.564</td>\n",
       "      <td>-9.77</td>\n",
       "      <td>-15.19</td>\n",
       "    </tr>\n",
       "  </tbody>\n",
       "</table>\n",
       "</div>"
      ],
      "text/plain": [
       "             count chunk_buckets  avg_corr  avg_corr_chunk_combinations  \\\n",
       "chunk_bucket                                                              \n",
       "2             1341        (0, 2)    0.6725                     0.593333   \n",
       "4             1241        (2, 4)    0.6900                     0.643333   \n",
       "6              702        (4, 6)    0.6800                     0.636667   \n",
       "8              235        (6, 8)    0.6450                     0.633333   \n",
       "10             377       (8, 10)    0.7125                     0.650000   \n",
       "12             312      (10, 12)    0.7175                     0.703333   \n",
       "14              27      (12, 14)    0.6625                     0.623333   \n",
       "16             192      (14, 16)    0.6725                     0.636667   \n",
       "18              58      (16, 18)    0.6400                     0.640000   \n",
       "20              78      (18, 20)    0.6650                     0.600000   \n",
       "\n",
       "              avg_corr_text_summarizer  corr_diff_1_4_percentage  \\\n",
       "chunk_bucket                                                       \n",
       "2                                0.676                    -11.77   \n",
       "4                                0.650                     -6.76   \n",
       "6                                0.618                     -6.37   \n",
       "8                                0.576                     -1.81   \n",
       "10                               0.594                     -8.77   \n",
       "12                               0.624                     -1.97   \n",
       "14                               0.642                     -5.91   \n",
       "16                               0.590                     -5.33   \n",
       "18                               0.624                      0.00   \n",
       "20                               0.564                     -9.77   \n",
       "\n",
       "              corr_diff_1_2_percentage  \n",
       "chunk_bucket                            \n",
       "2                                 0.52  \n",
       "4                                -5.80  \n",
       "6                                -9.12  \n",
       "8                               -10.70  \n",
       "10                              -16.63  \n",
       "12                              -13.03  \n",
       "14                               -3.09  \n",
       "16                              -12.27  \n",
       "18                               -2.50  \n",
       "20                              -15.19  "
      ]
     },
     "execution_count": 10,
     "metadata": {},
     "output_type": "execute_result"
    }
   ],
   "source": [
    "merged_df = merge_results(results, merge_on=\"chunk_bucket\")\n",
    "merged_df[\"corr_diff_1_4_percentage\"] = round((merged_df[\"avg_corr_chunk_combinations\"] - merged_df[\"avg_corr\"]) / merged_df[\"avg_corr\"] * 100, 2)\n",
    "merged_df[\"corr_diff_1_2_percentage\"] = round((merged_df[\"avg_corr_text_summarizer\"] - merged_df[\"avg_corr\"]) / merged_df[\"avg_corr\"] * 100, 2)\n",
    "\n",
    "merged_df = merged_df.sort_values(by=\"chunk_bucket\")\n",
    "merged_df"
   ]
  },
  {
   "cell_type": "code",
   "execution_count": null,
   "metadata": {},
   "outputs": [],
   "source": []
  }
 ],
 "metadata": {
  "kernelspec": {
   "display_name": "thesis_env",
   "language": "python",
   "name": "python3"
  },
  "language_info": {
   "codemirror_mode": {
    "name": "ipython",
    "version": 3
   },
   "file_extension": ".py",
   "mimetype": "text/x-python",
   "name": "python",
   "nbconvert_exporter": "python",
   "pygments_lexer": "ipython3",
   "version": "3.9.18"
  }
 },
 "nbformat": 4,
 "nbformat_minor": 2
}
