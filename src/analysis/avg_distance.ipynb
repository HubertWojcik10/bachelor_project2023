{
 "cells": [
  {
   "cell_type": "code",
   "execution_count": 1,
   "metadata": {},
   "outputs": [],
   "source": [
    "import warnings \n",
    "warnings.filterwarnings(\"ignore\")"
   ]
  },
  {
   "cell_type": "code",
   "execution_count": 2,
   "metadata": {},
   "outputs": [],
   "source": [
    "%run ./analysis_utils/log_retriever.py"
   ]
  },
  {
   "cell_type": "code",
   "execution_count": 31,
   "metadata": {},
   "outputs": [],
   "source": [
    "baseline_log_retriever = LogRetreiver(model=\"baseline\", test_path=\"../../data/test/merged_test_data.csv\")\n",
    "_, baseline_pred_dfs = baseline_log_retriever.get_logs()\n",
    "\n",
    "chunk_log_retriever = LogRetreiver(model=\"chunk_combinations\", test_path=\"../../data/test/merged_test_data.csv\")\n",
    "_, chunk_pred_dfs = chunk_log_retriever.get_logs()\n",
    "\n",
    "text_summarizer_log_retriever = LogRetreiver(model=\"text_summarizer\", test_path=\"../../data/test/merged_test_data.csv\")\n",
    "_, text_summarizer_pred_dfs = text_summarizer_log_retriever.get_logs()"
   ]
  },
  {
   "cell_type": "code",
   "execution_count": 32,
   "metadata": {},
   "outputs": [],
   "source": [
    "def merge_with_test(pred_dfs):\n",
    "    merged_dfs = []\n",
    "    test_df = pd.read_csv(\"../../data/test/merged_test_data.csv\")\n",
    "    for pred_df in pred_dfs:\n",
    "        merged_df = pd.merge(test_df, pred_df, on=\"pair_id\")\n",
    "        if \"overall_x\" in merged_df.columns:\n",
    "            merged_df = merged_df.rename(columns={\"overall_x\": \"overall\"})\n",
    "            merged_df = merged_df.drop(columns=[\"overall_y\"])\n",
    "        merged_dfs.append(merged_df)\n",
    "\n",
    "    return merged_dfs\n",
    "\n",
    "def get_avg_dist(merged_dfs, model=\"baseline\"):\n",
    "    avg_dists = []\n",
    "    for merged_df in merged_dfs:\n",
    "        if model != \"chunk_combinations\":\n",
    "            merged_df[\"dist\"] = abs(merged_df[\"overall\"] - merged_df[\"pred\"])\n",
    "        else:\n",
    "            merged_df[\"dist\"] = abs(merged_df[\"overall\"] - merged_df[\"logits\"])\n",
    "        avg_dist = merged_df[\"dist\"].mean()\n",
    "        avg_dists.append(avg_dist)\n",
    "\n",
    "    avg_dist = sum(avg_dists) / len(avg_dists)\n",
    "    return avg_dist\n",
    "\n",
    "def run(pred_dfs, model=\"baseline\"):\n",
    "    merged_dfs = merge_with_test(pred_dfs)\n",
    "    avg_dist = get_avg_dist(merged_dfs, model=model)\n",
    "\n",
    "    return avg_dist"
   ]
  },
  {
   "cell_type": "code",
   "execution_count": 33,
   "metadata": {},
   "outputs": [
    {
     "name": "stdout",
     "output_type": "stream",
     "text": [
      "Baseline avg dist: 0.7012011087138715\n",
      "Chunk avg dist: 0.7716308341652507\n",
      "Text summarizer avg dist: 0.7389031005472665\n"
     ]
    }
   ],
   "source": [
    "baseline_avg_dist = run(baseline_pred_dfs, model=\"baseline\")\n",
    "chunk_avg_dist = run(chunk_pred_dfs, model=\"chunk_combinations\")\n",
    "text_summarizer_avg_dist = run(text_summarizer_pred_dfs, model=\"text_summarizer\")\n",
    "\n",
    "print(f\"Baseline avg dist: {baseline_avg_dist}\")\n",
    "print(f\"Chunk avg dist: {chunk_avg_dist}\")\n",
    "print(f\"Text summarizer avg dist: {text_summarizer_avg_dist}\")"
   ]
  },
  {
   "cell_type": "code",
   "execution_count": null,
   "metadata": {},
   "outputs": [],
   "source": []
  }
 ],
 "metadata": {
  "kernelspec": {
   "display_name": "thesis_env",
   "language": "python",
   "name": "python3"
  },
  "language_info": {
   "codemirror_mode": {
    "name": "ipython",
    "version": 3
   },
   "file_extension": ".py",
   "mimetype": "text/x-python",
   "name": "python",
   "nbconvert_exporter": "python",
   "pygments_lexer": "ipython3",
   "version": "3.9.18"
  }
 },
 "nbformat": 4,
 "nbformat_minor": 2
}
