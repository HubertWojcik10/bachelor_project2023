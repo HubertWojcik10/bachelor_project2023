{
 "cells": [
  {
   "cell_type": "code",
   "execution_count": 33,
   "metadata": {},
   "outputs": [],
   "source": [
    "from transformers import XLMRobertaTokenizer, XLMRobertaModel\n",
    "import pandas as pd\n",
    "import numpy as np\n",
    "import sys\n",
    "sys.path.append('/Users/germa/thesis/bachelor_project2023/src/utils')\n",
    "from chunker import Chunker\n",
    "import torch.nn as nn\n",
    "import torch\n",
    "from torch import tensor\n"
   ]
  },
  {
   "cell_type": "code",
   "execution_count": 25,
   "metadata": {},
   "outputs": [],
   "source": [
    "train_df = pd.read_csv('../../data/train/train.csv')\n",
    "train_short_df = train_df.head(100)\n",
    "tokenizer = XLMRobertaTokenizer.from_pretrained('xlm-roberta-base')\n",
    "chunker = Chunker(tokenizer, 512)"
   ]
  },
  {
   "cell_type": "code",
   "execution_count": 28,
   "metadata": {},
   "outputs": [
    {
     "name": "stderr",
     "output_type": "stream",
     "text": [
      "/var/folders/c6/k78nzngn7nbdd0786bxl3s0c0000gn/T/ipykernel_1628/4139101259.py:1: SettingWithCopyWarning: \n",
      "A value is trying to be set on a copy of a slice from a DataFrame.\n",
      "Try using .loc[row_indexer,col_indexer] = value instead\n",
      "\n",
      "See the caveats in the documentation: https://pandas.pydata.org/pandas-docs/stable/user_guide/indexing.html#returning-a-view-versus-a-copy\n",
      "  train_short_df[\"text1_chunks\"]=train_short_df[\"text1\"].apply(lambda x: chunker.chunk(x))\n",
      "/var/folders/c6/k78nzngn7nbdd0786bxl3s0c0000gn/T/ipykernel_1628/4139101259.py:2: SettingWithCopyWarning: \n",
      "A value is trying to be set on a copy of a slice from a DataFrame.\n",
      "Try using .loc[row_indexer,col_indexer] = value instead\n",
      "\n",
      "See the caveats in the documentation: https://pandas.pydata.org/pandas-docs/stable/user_guide/indexing.html#returning-a-view-versus-a-copy\n",
      "  train_short_df[\"text2_chunks\"]=train_short_df[\"text2\"].apply(lambda x: chunker.chunk(x))\n"
     ]
    }
   ],
   "source": [
    "train_short_df[\"text1_chunks\"]=train_short_df[\"text1\"].apply(lambda x: chunker.chunk(x))\n",
    "train_short_df[\"text2_chunks\"]=train_short_df[\"text2\"].apply(lambda x: chunker.chunk(x))\n"
   ]
  },
  {
   "cell_type": "code",
   "execution_count": 30,
   "metadata": {},
   "outputs": [
    {
     "name": "stderr",
     "output_type": "stream",
     "text": [
      "/var/folders/c6/k78nzngn7nbdd0786bxl3s0c0000gn/T/ipykernel_1628/1495922066.py:2: SettingWithCopyWarning: \n",
      "A value is trying to be set on a copy of a slice from a DataFrame.\n",
      "Try using .loc[row_indexer,col_indexer] = value instead\n",
      "\n",
      "See the caveats in the documentation: https://pandas.pydata.org/pandas-docs/stable/user_guide/indexing.html#returning-a-view-versus-a-copy\n",
      "  train_short_df[\"text1_chunks_count\"]=train_short_df[\"text1_chunks\"].apply(lambda x: len(x))\n",
      "/var/folders/c6/k78nzngn7nbdd0786bxl3s0c0000gn/T/ipykernel_1628/1495922066.py:3: SettingWithCopyWarning: \n",
      "A value is trying to be set on a copy of a slice from a DataFrame.\n",
      "Try using .loc[row_indexer,col_indexer] = value instead\n",
      "\n",
      "See the caveats in the documentation: https://pandas.pydata.org/pandas-docs/stable/user_guide/indexing.html#returning-a-view-versus-a-copy\n",
      "  train_short_df[\"text2_chunks_count\"]=train_short_df[\"text2_chunks\"].apply(lambda x: len(x))\n"
     ]
    }
   ],
   "source": [
    "#count per row how many chunks there are for each text\n",
    "train_short_df[\"text1_chunks_count\"]=train_short_df[\"text1_chunks\"].apply(lambda x: len(x)) \n",
    "train_short_df[\"text2_chunks_count\"]=train_short_df[\"text2_chunks\"].apply(lambda x: len(x))\n"
   ]
  },
  {
   "cell_type": "code",
   "execution_count": 35,
   "metadata": {},
   "outputs": [],
   "source": [
    "class LSTMOnXLMRoberta(nn.Module):\n",
    "    def __init__(self, xlmroberta_model, lstm_hidden_size, num_lstm_layers):\n",
    "        super(LSTMOnXLMRoberta, self).__init__()\n",
    "        self.xlmroberta_model = XLMRobertaModel.from_pretrained(xlmroberta_model)\n",
    "        self.lstm = nn.LSTM(input_size=xlmroberta_model.config.hidden_size,\n",
    "                            hidden_size=lstm_hidden_size,\n",
    "                            num_layers=num_lstm_layers,\n",
    "                            batch_first=True,\n",
    "                            bidirectional=False)\n",
    "        self.fc = nn.Linear(lstm_hidden_size * 2, 1)\n",
    "    \n",
    "    def _manage_device(self) -> None:\n",
    "        \"\"\"\n",
    "            Manage the device to run the model on\n",
    "        \"\"\"\n",
    "        self.device = torch.device(\"cuda\" if torch.cuda.is_available() else \"cpu\")\n",
    "        self.xlmroberta_model.to(self.device)\n",
    "\n",
    "    def forward(self, input_ids_list):\n",
    "        pooled_outputs = []\n",
    "        for input_ids in input_ids_list:\n",
    "            outputs = self.xlmroberta_model(input_ids=torch.tensor(input_ids).to(outputs.last_hidden_state.device))\n",
    "            pooled_output = torch.mean(outputs.last_hidden_state, dim=1)  # Average pooling\n",
    "            pooled_outputs.append([pooled_output])\n",
    "    \n",
    "        # Stack pooled outputs into a tensor\n",
    "        pooled_outputs = torch.stack(pooled_outputs, dim=0)\n",
    "\n",
    "        lstm_out, _ = self.lstm(pooled_outputs.unsqueeze(1))\n",
    "        logits = self.fc(lstm_out.squeeze(1))\n",
    "        return logits\n",
    "\n",
    "    def train(self, train_loader, val_loader, device, model, optimizer, criterion, scheduler, num_epochs=5):\n",
    "        for epoch in range(num_epochs):\n",
    "            for idx, (ids, att, val) in enumerate(train_loader):\n",
    "                ids, att, val = ids.to(self.device), att.to(self.device), val.to(self.device)\n",
    "                logits = self.forward(ids)\n",
    "\n",
    "        pass\n",
    "\n",
    "        "
   ]
  },
  {
   "cell_type": "code",
   "execution_count": null,
   "metadata": {},
   "outputs": [],
   "source": []
  }
 ],
 "metadata": {
  "kernelspec": {
   "display_name": "project",
   "language": "python",
   "name": "python3"
  },
  "language_info": {
   "codemirror_mode": {
    "name": "ipython",
    "version": 3
   },
   "file_extension": ".py",
   "mimetype": "text/x-python",
   "name": "python",
   "nbconvert_exporter": "python",
   "pygments_lexer": "ipython3",
   "version": "3.12.1"
  }
 },
 "nbformat": 4,
 "nbformat_minor": 2
}
