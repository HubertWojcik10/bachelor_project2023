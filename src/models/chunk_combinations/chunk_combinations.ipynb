{
 "cells": [
  {
   "cell_type": "code",
   "execution_count": 1,
   "metadata": {},
   "outputs": [
    {
     "name": "stderr",
     "output_type": "stream",
     "text": [
      "Some weights of XLMRobertaForSequenceClassification were not initialized from the model checkpoint at xlm-roberta-base and are newly initialized: ['classifier.out_proj.bias', 'classifier.out_proj.weight', 'classifier.dense.weight', 'classifier.dense.bias']\n",
      "You should probably TRAIN this model on a down-stream task to be able to use it for predictions and inference.\n"
     ]
    }
   ],
   "source": [
    "import pandas as pd\n",
    "from collections import defaultdict\n",
    "from transformers import XLMRobertaForSequenceClassification, XLMRobertaTokenizer, XLMRobertaConfig, pipeline\n",
    "import torch\n",
    "from torch import Tensor\n",
    "from torch.utils.data import TensorDataset, DataLoader, random_split\n",
    "import numpy as np\n",
    "from typing import List, Tuple\n",
    "import time\n",
    "import os\n",
    "\n",
    "tokenizer = XLMRobertaTokenizer.from_pretrained(\"xlm-roberta-base\", TOKENIZERS_PARALLELISM=True)\n",
    "config = XLMRobertaConfig(\n",
    "    num_labels=1,\n",
    "    output_hidden_states=False,\n",
    "    output_attentions=False,\n",
    ");\n",
    "config.vocab_size = tokenizer.vocab_size\n",
    "\n",
    "tokenizer = XLMRobertaTokenizer.from_pretrained(\"xlm-roberta-base\", TOKENIZERS_PARALLELISM=True)\n",
    "model = XLMRobertaForSequenceClassification.from_pretrained(\"xlm-roberta-base\", num_labels=1);\n",
    "\n",
    "os.environ[\"TOKENIZERS_PARALLELISM\"] = \"false\"\n",
    "\n",
    "device = torch.device(\"cuda\" if torch.cuda.is_available() else \"cpu\")\n",
    "model.to(device);\n"
   ]
  },
  {
   "cell_type": "code",
   "execution_count": 2,
   "metadata": {},
   "outputs": [],
   "source": [
    "\n",
    "%run ../../utils/article_dataset.py\n",
    "%run ../../utils/dev_utils.py\n",
    "%run ../../utils/chunker.py\n",
    "%run ../../utils/ml_utils.py\n",
    "\n",
    "train_data = pd.read_csv(\"../../../data/train/train.csv\")\n",
    "test_data = pd.read_csv(\"../../../data/test/merged_test_data.csv\")\n",
    "\n",
    "DEV_NUM = 8\n",
    "train_data = train_data[:DEV_NUM]\n",
    "test_data = test_data[:DEV_NUM]\n",
    "\n",
    "chunker = Chunker(tokenizer, 255)"
   ]
  },
  {
   "cell_type": "code",
   "execution_count": 3,
   "metadata": {},
   "outputs": [
    {
     "name": "stderr",
     "output_type": "stream",
     "text": [
      "Token indices sequence length is longer than the specified maximum sequence length for this model (716 > 512). Running this sequence through the model will result in indexing errors\n"
     ]
    }
   ],
   "source": [
    "def create_chunks(df: pd.DataFrame) -> pd.DataFrame:\n",
    "    df[\"chunks1\"] = df[\"text1\"].apply(chunker.chunk)\n",
    "    df[\"chunks2\"] = df[\"text2\"].apply(chunker.chunk)\n",
    "    return df\n",
    "\n",
    "def create_combinations(df: pd.DataFrame) -> pd.DataFrame:\n",
    "    sep_token_id = tokenizer.sep_token_id\n",
    "    sep_token_array = np.array([sep_token_id])\n",
    "\n",
    "    combined = []\n",
    "    for row_idx, row in df.iterrows():\n",
    "        combinations = defaultdict(np.ndarray)\n",
    "        chunks1 = row[\"chunks1\"] # e.g. (2, 256)\n",
    "        chunks2 = row[\"chunks2\"] # e.g. (3, 256)\n",
    "        \n",
    "        for i, chunk1 in enumerate(chunks1):\n",
    "            for j, chunk2 in enumerate(chunks2):\n",
    "                if chunk1[-1] != sep_token_id:\n",
    "                    chunk1 = np.concatenate((chunk1, sep_token_array))\n",
    "\n",
    "                combinations[(row_idx, i, j)] = np.concatenate((chunk1, chunk2))\n",
    "                \n",
    "        combined.append(combinations)\n",
    "\n",
    "    df[\"combinations\"] = combined\n",
    "    return df\n",
    "\n",
    "train_data = create_chunks(train_data)\n",
    "train_data = create_combinations(train_data)\n",
    "\n",
    "df = train_data[[\"combinations\", \"overall\"]]\n",
    "\n",
    "batch_size = 2\n",
    "batched_df = np.array_split(df, np.ceil(len(df) / batch_size))"
   ]
  },
  {
   "cell_type": "code",
   "execution_count": 4,
   "metadata": {},
   "outputs": [],
   "source": [
    "def train(batched_df):\n",
    "    model.train()\n",
    "    for idx, batch in enumerate(batched_df):\n",
    "        combinations_list = []\n",
    "        labels_list = []\n",
    "\n",
    "        labels = batch[\"overall\"].values\n",
    "        combinations = batch[\"combinations\"].values[1]\n",
    "\n",
    "        row, i = -1, -1\n",
    "        for key, combination in combinations.items():\n",
    "            curr_row = key[0]\n",
    "            if curr_row != row:\n",
    "                row = curr_row\n",
    "                i += 1\n",
    "            \n",
    "            label = labels[i]\n",
    "            tensor_combination = torch.tensor(combination, dtype=torch.float)\n",
    "\n",
    "            labels_list.append(float(label))\n",
    "            combinations_list.append(tensor_combination)\n",
    "\n",
    "        ids = torch.stack(combinations_list).long()\n",
    "        labels = torch.tensor(labels_list, dtype=torch.float).float()\n",
    "\n",
    "        ids = ids.to(device)\n",
    "        labels = labels.to(device)\n",
    "\n",
    "        outputs = model(ids, labels=labels)\n",
    "        loss, logits = outputs[:2]    \n",
    "        print(loss)\n",
    "\n",
    "        loss.backward()"
   ]
  },
  {
   "cell_type": "code",
   "execution_count": 5,
   "metadata": {},
   "outputs": [
    {
     "name": "stderr",
     "output_type": "stream",
     "text": [
      "We strongly recommend passing in an `attention_mask` since your input_ids may be padded. See https://huggingface.co/docs/transformers/troubleshooting#incorrect-output-when-padding-tokens-arent-masked.\n"
     ]
    },
    {
     "name": "stdout",
     "output_type": "stream",
     "text": [
      "tensor(14.5752, grad_fn=<MseLossBackward0>)\n",
      "tensor(4.6184, grad_fn=<MseLossBackward0>)\n",
      "tensor(1.1300, grad_fn=<MseLossBackward0>)\n",
      "tensor(12.3055, grad_fn=<MseLossBackward0>)\n"
     ]
    }
   ],
   "source": [
    "train(batched_df)"
   ]
  },
  {
   "cell_type": "code",
   "execution_count": null,
   "metadata": {},
   "outputs": [],
   "source": []
  },
  {
   "cell_type": "code",
   "execution_count": null,
   "metadata": {},
   "outputs": [],
   "source": []
  },
  {
   "cell_type": "code",
   "execution_count": null,
   "metadata": {},
   "outputs": [],
   "source": []
  },
  {
   "cell_type": "code",
   "execution_count": null,
   "metadata": {},
   "outputs": [],
   "source": []
  }
 ],
 "metadata": {
  "kernelspec": {
   "display_name": "thesis_env",
   "language": "python",
   "name": "python3"
  },
  "language_info": {
   "codemirror_mode": {
    "name": "ipython",
    "version": 3
   },
   "file_extension": ".py",
   "mimetype": "text/x-python",
   "name": "python",
   "nbconvert_exporter": "python",
   "pygments_lexer": "ipython3",
   "version": "3.9.18"
  }
 },
 "nbformat": 4,
 "nbformat_minor": 2
}
