{
 "cells": [
  {
   "cell_type": "code",
   "execution_count": 16,
   "metadata": {},
   "outputs": [
    {
     "name": "stderr",
     "output_type": "stream",
     "text": [
      "Some weights of XLMRobertaForSequenceClassification were not initialized from the model checkpoint at xlm-roberta-base and are newly initialized: ['classifier.out_proj.weight', 'classifier.out_proj.bias', 'classifier.dense.weight', 'classifier.dense.bias']\n",
      "You should probably TRAIN this model on a down-stream task to be able to use it for predictions and inference.\n"
     ]
    }
   ],
   "source": [
    "import pandas as pd\n",
    "from transformers import XLMRobertaForSequenceClassification, XLMRobertaTokenizer, XLMRobertaConfig, pipeline\n",
    "import torch\n",
    "from torch import Tensor\n",
    "from torch.utils.data import TensorDataset, DataLoader, random_split\n",
    "import numpy as np\n",
    "from typing import List, Tuple\n",
    "import time\n",
    "import os\n",
    "\n",
    "tokenizer = XLMRobertaTokenizer.from_pretrained(\"xlm-roberta-base\", TOKENIZERS_PARALLELISM=True)\n",
    "config = XLMRobertaConfig(\n",
    "    num_labels=1,\n",
    "    output_hidden_states=False,\n",
    "    output_attentions=False,\n",
    ");\n",
    "config.vocab_size = tokenizer.vocab_size\n",
    "\n",
    "tokenizer = XLMRobertaTokenizer.from_pretrained(\"xlm-roberta-base\", TOKENIZERS_PARALLELISM=True)\n",
    "model = XLMRobertaForSequenceClassification.from_pretrained(\"xlm-roberta-base\", num_labels=1);\n",
    "\n",
    "os.environ[\"TOKENIZERS_PARALLELISM\"] = \"false\"\n",
    "\n",
    "device = torch.device(\"cuda\" if torch.cuda.is_available() else \"cpu\")\n",
    "model.to(device);\n"
   ]
  },
  {
   "cell_type": "code",
   "execution_count": 38,
   "metadata": {},
   "outputs": [],
   "source": [
    "\n",
    "%run ../../utils/article_dataset.py\n",
    "%run ../../utils/dev_utils.py\n",
    "%run ../../utils/chunker.py\n",
    "%run ../../utils/ml_utils.py\n",
    "\n",
    "train_data = pd.read_csv(\"../../../data/train/train.csv\")\n",
    "test_data = pd.read_csv(\"../../../data/test/merged_test_data.csv\")"
   ]
  },
  {
   "cell_type": "code",
   "execution_count": 39,
   "metadata": {},
   "outputs": [],
   "source": [
    "\n",
    "def chunk(text: str) -> List[List[int]]:\n",
    "    max_length = 256\n",
    "    tokenized_text = tokenizer(text, return_tensors=\"pt\", padding= True, truncation=False, add_special_tokens=True, max_length= None)\n",
    "    input_ids = tokenized_text[\"input_ids\"].tolist()[0]\n",
    "\n",
    "    chunks = [input_ids[i:i+max_length] for i in range(0, len(input_ids), max_length)]\n",
    "    return chunks\n",
    "\n",
    "def create_chunks(df: pd.DataFrame) -> pd.DataFrame:\n",
    "    df[\"chunks1\"] = df[\"text1\"].apply(chunk)\n",
    "    df[\"chunks2\"] = df[\"text2\"].apply(chunk)\n",
    "    return df\n",
    "\n",
    "def create_combinations(df: pd.DataFrame) -> pd.DataFrame:\n",
    "    df[\"combinations\"] = df.apply(lambda x: [(i, j) for i in x[\"chunks1\"] for j in x[\"chunks2\"]], axis=1)\n",
    "    return df\n",
    "\n",
    "train_data = create_chunks(train_data)\n",
    "train_data = create_combinations(train_data)"
   ]
  },
  {
   "cell_type": "code",
   "execution_count": 40,
   "metadata": {},
   "outputs": [],
   "source": [
    "train_dataset = ArticleDataset(train_data)\n",
    "train_loader = DataLoader(train_dataset, batch_size=1, shuffle=False, collate_fn=MlUtils.collate_fn)"
   ]
  },
  {
   "cell_type": "code",
   "execution_count": null,
   "metadata": {},
   "outputs": [],
   "source": []
  },
  {
   "cell_type": "code",
   "execution_count": null,
   "metadata": {},
   "outputs": [],
   "source": []
  },
  {
   "cell_type": "code",
   "execution_count": null,
   "metadata": {},
   "outputs": [],
   "source": []
  }
 ],
 "metadata": {
  "kernelspec": {
   "display_name": "thesis_env",
   "language": "python",
   "name": "python3"
  },
  "language_info": {
   "codemirror_mode": {
    "name": "ipython",
    "version": 3
   },
   "file_extension": ".py",
   "mimetype": "text/x-python",
   "name": "python",
   "nbconvert_exporter": "python",
   "pygments_lexer": "ipython3",
   "version": "3.9.18"
  }
 },
 "nbformat": 4,
 "nbformat_minor": 2
}
